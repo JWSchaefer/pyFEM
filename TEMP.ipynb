{
 "cells": [
  {
   "cell_type": "code",
   "execution_count": 13,
   "metadata": {},
   "outputs": [],
   "source": [
    "import pandas as pd"
   ]
  },
  {
   "cell_type": "code",
   "execution_count": 14,
   "metadata": {},
   "outputs": [],
   "source": [
    "data = [\n",
    "    [1.22, 2.71,  378.8,  True,  True, False,    \"Zebra\", \"Female\"],\n",
    "    [5.4,  4.16, 1255.2,  True, False,  True,  \"Giraffe\",   \"Male\"],\n",
    "    [1.47, 2.81,  411.3,  True,  True, False,    \"Zebra\",   \"Male\"],\n",
    "    [0.78, 1.27,     50,  True, False,  True,  \"Cheetah\", \"Female\"],\n",
    "    [3.02, 6.46, 4128.5, False, False, False, \"Elephant\", \"Female\"],\n",
    "    [0.44, 0.78,   18.2,  True,  True,  True,   \"Ceivet\",   \"Male\"]\n",
    "]"
   ]
  },
  {
   "cell_type": "code",
   "execution_count": 15,
   "metadata": {},
   "outputs": [],
   "source": [
    "df = pd.DataFrame(data, columns = ['Height', 'Length', 'Mass', 'Fur', 'Spots', 'Stripes', 'Species', 'Sex'])"
   ]
  },
  {
   "cell_type": "code",
   "execution_count": 16,
   "metadata": {},
   "outputs": [
    {
     "data": {
      "text/html": [
       "<div>\n",
       "<style scoped>\n",
       "    .dataframe tbody tr th:only-of-type {\n",
       "        vertical-align: middle;\n",
       "    }\n",
       "\n",
       "    .dataframe tbody tr th {\n",
       "        vertical-align: top;\n",
       "    }\n",
       "\n",
       "    .dataframe thead th {\n",
       "        text-align: right;\n",
       "    }\n",
       "</style>\n",
       "<table border=\"1\" class=\"dataframe\">\n",
       "  <thead>\n",
       "    <tr style=\"text-align: right;\">\n",
       "      <th></th>\n",
       "      <th>Height</th>\n",
       "      <th>Length</th>\n",
       "      <th>Mass</th>\n",
       "      <th>Fur</th>\n",
       "      <th>Spots</th>\n",
       "      <th>Stripes</th>\n",
       "      <th>Species</th>\n",
       "      <th>Sex</th>\n",
       "    </tr>\n",
       "  </thead>\n",
       "  <tbody>\n",
       "    <tr>\n",
       "      <th>0</th>\n",
       "      <td>1.22</td>\n",
       "      <td>2.71</td>\n",
       "      <td>378.8</td>\n",
       "      <td>True</td>\n",
       "      <td>True</td>\n",
       "      <td>False</td>\n",
       "      <td>Zebra</td>\n",
       "      <td>Female</td>\n",
       "    </tr>\n",
       "    <tr>\n",
       "      <th>1</th>\n",
       "      <td>5.40</td>\n",
       "      <td>4.16</td>\n",
       "      <td>1255.2</td>\n",
       "      <td>True</td>\n",
       "      <td>False</td>\n",
       "      <td>True</td>\n",
       "      <td>Giraffe</td>\n",
       "      <td>Male</td>\n",
       "    </tr>\n",
       "    <tr>\n",
       "      <th>2</th>\n",
       "      <td>1.47</td>\n",
       "      <td>2.81</td>\n",
       "      <td>411.3</td>\n",
       "      <td>True</td>\n",
       "      <td>True</td>\n",
       "      <td>False</td>\n",
       "      <td>Zebra</td>\n",
       "      <td>Male</td>\n",
       "    </tr>\n",
       "    <tr>\n",
       "      <th>3</th>\n",
       "      <td>0.78</td>\n",
       "      <td>1.27</td>\n",
       "      <td>50.0</td>\n",
       "      <td>True</td>\n",
       "      <td>False</td>\n",
       "      <td>True</td>\n",
       "      <td>Cheetah</td>\n",
       "      <td>Female</td>\n",
       "    </tr>\n",
       "    <tr>\n",
       "      <th>4</th>\n",
       "      <td>3.02</td>\n",
       "      <td>6.46</td>\n",
       "      <td>4128.5</td>\n",
       "      <td>False</td>\n",
       "      <td>False</td>\n",
       "      <td>False</td>\n",
       "      <td>Elephant</td>\n",
       "      <td>Female</td>\n",
       "    </tr>\n",
       "    <tr>\n",
       "      <th>5</th>\n",
       "      <td>0.44</td>\n",
       "      <td>0.78</td>\n",
       "      <td>18.2</td>\n",
       "      <td>True</td>\n",
       "      <td>True</td>\n",
       "      <td>True</td>\n",
       "      <td>Ceivet</td>\n",
       "      <td>Male</td>\n",
       "    </tr>\n",
       "  </tbody>\n",
       "</table>\n",
       "</div>"
      ],
      "text/plain": [
       "   Height  Length    Mass    Fur  Spots  Stripes   Species     Sex\n",
       "0    1.22    2.71   378.8   True   True    False     Zebra  Female\n",
       "1    5.40    4.16  1255.2   True  False     True   Giraffe    Male\n",
       "2    1.47    2.81   411.3   True   True    False     Zebra    Male\n",
       "3    0.78    1.27    50.0   True  False     True   Cheetah  Female\n",
       "4    3.02    6.46  4128.5  False  False    False  Elephant  Female\n",
       "5    0.44    0.78    18.2   True   True     True    Ceivet    Male"
      ]
     },
     "execution_count": 16,
     "metadata": {},
     "output_type": "execute_result"
    }
   ],
   "source": [
    "df"
   ]
  }
 ],
 "metadata": {
  "language_info": {
   "name": "python"
  }
 },
 "nbformat": 4,
 "nbformat_minor": 2
}
