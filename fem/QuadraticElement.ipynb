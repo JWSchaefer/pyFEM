{
 "cells": [
  {
   "cell_type": "markdown",
   "metadata": {},
   "source": [
    "# Rayleigh-Ritz\n",
    "\n",
    "Example from 2.4 of Reddy \n",
    "\n",
    "$$\n",
    "-\\frac{d^2\\,u}{d\\,x^2} - u + x^2 = 0,\\quad 0 < x < 1\n",
    "$$\n",
    "\n",
    "$$\n",
    "u(0) = u(1) = 0\n",
    "$$\n"
   ]
  },
  {
   "cell_type": "code",
   "execution_count": 12,
   "metadata": {},
   "outputs": [],
   "source": [
    "import numpy as np\n",
    "\n",
    "from numpy import sin\n",
    "from scipy.integrate import quad\n",
    "from matplotlib import pyplot as plt"
   ]
  },
  {
   "cell_type": "code",
   "execution_count": 13,
   "metadata": {},
   "outputs": [],
   "source": [
    "# Relate Given Problem To Generalised Case\n",
    "\n",
    "a =  1\n",
    "c = -1\n",
    "\n",
    "q = lambda x : -np.power(x, 2)"
   ]
  },
  {
   "cell_type": "code",
   "execution_count": 14,
   "metadata": {},
   "outputs": [],
   "source": [
    "# Analytical Solution\n",
    "def f(x):\n",
    "    return (sin(x) + 2 * sin(1 - x)) / sin(1) + (x**2) - 2 "
   ]
  },
  {
   "cell_type": "code",
   "execution_count": 15,
   "metadata": {},
   "outputs": [],
   "source": [
    "# E Quadratic Elements\n",
    "E = 100\n",
    "# N Nodes\n",
    "N = 2*E + 1"
   ]
  },
  {
   "cell_type": "code",
   "execution_count": 16,
   "metadata": {},
   "outputs": [],
   "source": [
    "# Local Eelement Domain Length 1\n",
    "he = 1 / E"
   ]
  },
  {
   "cell_type": "code",
   "execution_count": 17,
   "metadata": {},
   "outputs": [],
   "source": [
    "# Element Coefficient Matrix\n",
    "Ke = ((a / (3*he))  * np.array([[7, -8,  1], [-8, 16, -8], [ 1, -8, 7]]) \n",
    "   +  (c * he / 30) * np.array([[4,  2, -1], [ 2, 16,  2], [-1,  2, 4]]) \n",
    ")\n"
   ]
  },
  {
   "cell_type": "code",
   "execution_count": 18,
   "metadata": {},
   "outputs": [],
   "source": [
    "# # Element Source Vector (Numerical)\n",
    "# def Fe(i, j):\n",
    "\n",
    "#     # Integral Bounds\n",
    "#     xa, xb = i * he, j * he\n",
    "\n",
    "#     fe_1 = lambda x : ((xb - x) / (xb - xa)) * q(x)\n",
    "#     fe_2 = lambda x : ((x - xa) / (xb - xa)) * q(x)\n",
    "\n",
    "#     return np.array([quad(fe_1, xa, xb)[0], quad(fe_2, xa, xb)[0]])"
   ]
  },
  {
   "cell_type": "code",
   "execution_count": 19,
   "metadata": {},
   "outputs": [],
   "source": [
    "# Element Source Vector\n",
    "def Fe(i, j):\n",
    "\n",
    "    # Integral Bounds\n",
    "    xa, xb = i * he, j * he\n",
    "\n",
    "    fe_1 = (-1/12) * (xb-xa) * ((3 * xa**2) + (2 * xa * xb) + (    xb**2))\n",
    "    fe_2 = (-1/12) * (xb-xa) * ((    xa**2) + (2 * xa * xb) + (3 * xb**2))\n",
    "\n",
    "    return np.array([fe_1, fe_2])"
   ]
  },
  {
   "cell_type": "code",
   "execution_count": 20,
   "metadata": {},
   "outputs": [],
   "source": [
    "# Connectivity Matrix\n",
    "B = (np.array(np.arange(0, E, 1)) + np.array([0,1,2])[:, np.newaxis]).T"
   ]
  },
  {
   "cell_type": "code",
   "execution_count": 21,
   "metadata": {},
   "outputs": [],
   "source": [
    "# Construct Nodal Solution\n",
    "K = np.zeros((N, N))\n",
    "F = np.zeros((N,))\n",
    "U = np.full ((N,), np.nan)"
   ]
  },
  {
   "cell_type": "code",
   "execution_count": 22,
   "metadata": {},
   "outputs": [
    {
     "ename": "ValueError",
     "evalue": "too many values to unpack (expected 2)",
     "output_type": "error",
     "traceback": [
      "\u001b[0;31m---------------------------------------------------------------------------\u001b[0m",
      "\u001b[0;31mValueError\u001b[0m                                Traceback (most recent call last)",
      "Cell \u001b[0;32mIn[22], line 2\u001b[0m\n\u001b[1;32m      1\u001b[0m \u001b[38;5;66;03m# Fill Nodal and Primary Variable Coeficient Matrix\u001b[39;00m\n\u001b[0;32m----> 2\u001b[0m \u001b[38;5;28;01mfor\u001b[39;00m (i,j) \u001b[38;5;129;01min\u001b[39;00m B:\n\u001b[1;32m      3\u001b[0m     F[i:j\u001b[38;5;241m+\u001b[39m\u001b[38;5;241m1\u001b[39m:j\u001b[38;5;241m-\u001b[39mi] \u001b[38;5;241m+\u001b[39m\u001b[38;5;241m=\u001b[39m Fe(i,j)\n\u001b[1;32m      4\u001b[0m     K[i:j\u001b[38;5;241m+\u001b[39m\u001b[38;5;241m1\u001b[39m:j\u001b[38;5;241m-\u001b[39mi, i:j\u001b[38;5;241m+\u001b[39m\u001b[38;5;241m1\u001b[39m:j\u001b[38;5;241m-\u001b[39mi] \u001b[38;5;241m+\u001b[39m\u001b[38;5;241m=\u001b[39m Ke\n",
      "\u001b[0;31mValueError\u001b[0m: too many values to unpack (expected 2)"
     ]
    }
   ],
   "source": [
    "# Fill Nodal and Primary Variable Coeficient Matrix\n",
    "for (i,j) in B:\n",
    "    F[i:j+1:j-i] += Fe(i,j)\n",
    "    K[i:j+1:j-i, i:j+1:j-i] += Ke"
   ]
  },
  {
   "cell_type": "code",
   "execution_count": null,
   "metadata": {},
   "outputs": [],
   "source": [
    "# Apply Boundary Conditions \n",
    "U[[0,-1]] = -0 "
   ]
  },
  {
   "cell_type": "code",
   "execution_count": null,
   "metadata": {},
   "outputs": [],
   "source": [
    "# Identify known primary variabes\n",
    "m = ~np.isnan(U)"
   ]
  },
  {
   "cell_type": "code",
   "execution_count": null,
   "metadata": {},
   "outputs": [
    {
     "ename": "LinAlgError",
     "evalue": "Singular matrix",
     "output_type": "error",
     "traceback": [
      "\u001b[0;31m---------------------------------------------------------------------------\u001b[0m",
      "\u001b[0;31mLinAlgError\u001b[0m                               Traceback (most recent call last)",
      "Cell \u001b[0;32mIn[30], line 3\u001b[0m\n\u001b[1;32m      1\u001b[0m \u001b[38;5;66;03m# Solve \u001b[39;00m\n\u001b[1;32m      2\u001b[0m U[\u001b[38;5;241m~\u001b[39mm] \u001b[38;5;241m=\u001b[39m np\u001b[38;5;241m.\u001b[39mmatmul(\n\u001b[0;32m----> 3\u001b[0m     \u001b[43mnp\u001b[49m\u001b[38;5;241;43m.\u001b[39;49m\u001b[43mlinalg\u001b[49m\u001b[38;5;241;43m.\u001b[39;49m\u001b[43minv\u001b[49m\u001b[43m(\u001b[49m\u001b[43mK\u001b[49m\u001b[43m[\u001b[49m\u001b[43mnp\u001b[49m\u001b[38;5;241;43m.\u001b[39;49m\u001b[43mix_\u001b[49m\u001b[43m(\u001b[49m\u001b[38;5;241;43m~\u001b[39;49m\u001b[43mm\u001b[49m\u001b[43m,\u001b[49m\u001b[43m \u001b[49m\u001b[38;5;241;43m~\u001b[39;49m\u001b[43mm\u001b[49m\u001b[43m)\u001b[49m\u001b[43m]\u001b[49m\u001b[43m)\u001b[49m,\n\u001b[1;32m      4\u001b[0m     F[\u001b[38;5;241m~\u001b[39mm] \u001b[38;5;241m-\u001b[39m np\u001b[38;5;241m.\u001b[39mmatmul(K[np\u001b[38;5;241m.\u001b[39mix_(\u001b[38;5;241m~\u001b[39mm, m)], U[m])\n\u001b[1;32m      5\u001b[0m )\n",
      "File \u001b[0;32m~/Library/Caches/pypoetry/virtualenvs/fem-IEM-qVPE-py3.12/lib/python3.12/site-packages/numpy/linalg/linalg.py:561\u001b[0m, in \u001b[0;36minv\u001b[0;34m(a)\u001b[0m\n\u001b[1;32m    559\u001b[0m signature \u001b[38;5;241m=\u001b[39m \u001b[38;5;124m'\u001b[39m\u001b[38;5;124mD->D\u001b[39m\u001b[38;5;124m'\u001b[39m \u001b[38;5;28;01mif\u001b[39;00m isComplexType(t) \u001b[38;5;28;01melse\u001b[39;00m \u001b[38;5;124m'\u001b[39m\u001b[38;5;124md->d\u001b[39m\u001b[38;5;124m'\u001b[39m\n\u001b[1;32m    560\u001b[0m extobj \u001b[38;5;241m=\u001b[39m get_linalg_error_extobj(_raise_linalgerror_singular)\n\u001b[0;32m--> 561\u001b[0m ainv \u001b[38;5;241m=\u001b[39m \u001b[43m_umath_linalg\u001b[49m\u001b[38;5;241;43m.\u001b[39;49m\u001b[43minv\u001b[49m\u001b[43m(\u001b[49m\u001b[43ma\u001b[49m\u001b[43m,\u001b[49m\u001b[43m \u001b[49m\u001b[43msignature\u001b[49m\u001b[38;5;241;43m=\u001b[39;49m\u001b[43msignature\u001b[49m\u001b[43m,\u001b[49m\u001b[43m \u001b[49m\u001b[43mextobj\u001b[49m\u001b[38;5;241;43m=\u001b[39;49m\u001b[43mextobj\u001b[49m\u001b[43m)\u001b[49m\n\u001b[1;32m    562\u001b[0m \u001b[38;5;28;01mreturn\u001b[39;00m wrap(ainv\u001b[38;5;241m.\u001b[39mastype(result_t, copy\u001b[38;5;241m=\u001b[39m\u001b[38;5;28;01mFalse\u001b[39;00m))\n",
      "File \u001b[0;32m~/Library/Caches/pypoetry/virtualenvs/fem-IEM-qVPE-py3.12/lib/python3.12/site-packages/numpy/linalg/linalg.py:112\u001b[0m, in \u001b[0;36m_raise_linalgerror_singular\u001b[0;34m(err, flag)\u001b[0m\n\u001b[1;32m    111\u001b[0m \u001b[38;5;28;01mdef\u001b[39;00m \u001b[38;5;21m_raise_linalgerror_singular\u001b[39m(err, flag):\n\u001b[0;32m--> 112\u001b[0m     \u001b[38;5;28;01mraise\u001b[39;00m LinAlgError(\u001b[38;5;124m\"\u001b[39m\u001b[38;5;124mSingular matrix\u001b[39m\u001b[38;5;124m\"\u001b[39m)\n",
      "\u001b[0;31mLinAlgError\u001b[0m: Singular matrix"
     ]
    }
   ],
   "source": [
    "# Solve \n",
    "U[~m] = np.matmul(\n",
    "    np.linalg.inv(K[np.ix_(~m, ~m)]),\n",
    "    F[~m] - np.matmul(K[np.ix_(~m, m)], U[m])\n",
    ")"
   ]
  },
  {
   "cell_type": "code",
   "execution_count": null,
   "metadata": {},
   "outputs": [
    {
     "data": {
      "image/png": "[encoded data removed]",
      "text/plain": [
       "<Figure size 600x400 with 1 Axes>"
      ]
     },
     "metadata": {},
     "output_type": "display_data"
    }
   ],
   "source": [
    "x = np.linspace(0, 1, 100)\n",
    "\n",
    "fig = plt.figure(figsize = (6,4))\n",
    "plt.title(\"Finite Element Demo\")\n",
    "plt.plot(x, f(x), '--k', label=\"Analytical Solution\")\n",
    "plt.plot([he * i for i in range(len(U))], U, label='Linear Element FEM')\n",
    "plt.legend()\n",
    "plt.show()"
   ]
  }
 ],
 "metadata": {
  "kernelspec": {
   "display_name": "fem-IEM-qVPE-py3.12",
   "language": "python",
   "name": "python3"
  },
  "language_info": {
   "codemirror_mode": {
    "name": "ipython",
    "version": 3
   },
   "file_extension": ".py",
   "mimetype": "text/x-python",
   "name": "python",
   "nbconvert_exporter": "python",
   "pygments_lexer": "ipython3",
   "version": "3.12.2"
  }
 },
 "nbformat": 4,
 "nbformat_minor": 2
}
